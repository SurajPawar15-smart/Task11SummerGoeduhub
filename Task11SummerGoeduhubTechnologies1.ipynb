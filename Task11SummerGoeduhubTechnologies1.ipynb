{
  "nbformat": 4,
  "nbformat_minor": 0,
  "metadata": {
    "colab": {
      "name": "Task11SummerGoeduhubTechnologies1.ipynb",
      "provenance": [],
      "collapsed_sections": []
    },
    "kernelspec": {
      "name": "python3",
      "display_name": "Python 3"
    },
    "language_info": {
      "name": "python"
    }
  },
  "cells": [
    {
      "cell_type": "code",
      "metadata": {
        "id": "YVEo_42bFmSG"
      },
      "source": [
        "#Load libraries\n",
        "import pandas as pd\n",
        "import numpy as np\n",
        "import matplotlib.pyplot as plt\n",
        "from sklearn import model_selection\n",
        "from sklearn.metrics import accuracy_score\n",
        "from sklearn.linear_model import LogisticRegression\n",
        "from sklearn.linear_model import LinearRegression\n",
        "from sklearn.ensemble import RandomForestClassifier\n",
        "from sklearn.neighbors import KNeighborsClassifier\n",
        "from sklearn.svm import SVC\n",
        "from sklearn.tree import DecisionTreeClassifier, export_graphviz"
      ],
      "execution_count": 78,
      "outputs": []
    },
    {
      "cell_type": "code",
      "metadata": {
        "id": "D7NpBGfQF6Vb"
      },
      "source": [
        "#Load dataset\n",
        "url = \"https://raw.githubusercontent.com/callxpert/datasets/master/Loan-applicant-details.csv\"\n",
        "names = ['Loan_ID','Gender','Married','Dependents','Education','Self_Employed','ApplicantIncome','CoapplicantIncome','LoanAmount','Loan_Amount_Term','Credit_History','Property_Area','Loan_Status']\n",
        "dataset = pd.read_csv(url, names=names)"
      ],
      "execution_count": 80,
      "outputs": []
    },
    {
      "cell_type": "code",
      "metadata": {
        "colab": {
          "base_uri": "https://localhost:8080/"
        },
        "id": "UEvcOZ_OF9xD",
        "outputId": "cb7988d3-3020-41ed-a677-6808b1c1c089"
      },
      "source": [
        "print(dataset.head(20))"
      ],
      "execution_count": 81,
      "outputs": [
        {
          "output_type": "stream",
          "text": [
            "     Loan_ID  Gender Married  ... Credit_History Property_Area Loan_Status\n",
            "0   LP001003    Male     Yes  ...              1         Rural           N\n",
            "1   LP001005    Male     Yes  ...              1         Urban           Y\n",
            "2   LP001006    Male     Yes  ...              1         Urban           Y\n",
            "3   LP001008    Male      No  ...              1         Urban           Y\n",
            "4   LP001011    Male     Yes  ...              1         Urban           Y\n",
            "5   LP001013    Male     Yes  ...              1         Urban           Y\n",
            "6   LP001014    Male     Yes  ...              0     Semiurban           N\n",
            "7   LP001018    Male     Yes  ...              1         Urban           Y\n",
            "8   LP001020    Male     Yes  ...              1     Semiurban           N\n",
            "9   LP001024    Male     Yes  ...              1         Urban           Y\n",
            "10  LP001028    Male     Yes  ...              1         Urban           Y\n",
            "11  LP001029    Male      No  ...              1         Rural           N\n",
            "12  LP001030    Male     Yes  ...              1         Urban           Y\n",
            "13  LP001032    Male      No  ...              1         Urban           Y\n",
            "14  LP001036  Female      No  ...              0         Urban           N\n",
            "15  LP001038    Male     Yes  ...              1         Rural           N\n",
            "16  LP001043    Male     Yes  ...              0         Urban           N\n",
            "17  LP001046    Male     Yes  ...              1         Urban           Y\n",
            "18  LP001047    Male     Yes  ...              0     Semiurban           N\n",
            "19  LP001066    Male     Yes  ...              1     Semiurban           Y\n",
            "\n",
            "[20 rows x 13 columns]\n"
          ],
          "name": "stdout"
        }
      ]
    },
    {
      "cell_type": "code",
      "metadata": {
        "id": "ly1gRk2oeskJ"
      },
      "source": [
        "dataset=dataset.drop(columns=['Loan_ID'])"
      ],
      "execution_count": 83,
      "outputs": []
    },
    {
      "cell_type": "code",
      "metadata": {
        "colab": {
          "base_uri": "https://localhost:8080/",
          "height": 241
        },
        "id": "x2RO8cRFffLD",
        "outputId": "5b9fd3ce-6b03-4be5-f1ac-af0c34d8d7dd"
      },
      "source": [
        "df_encoded=pd.get_dummies(dataset,drop_first=True)\n",
        "df_encoded.head()"
      ],
      "execution_count": 86,
      "outputs": [
        {
          "output_type": "execute_result",
          "data": {
            "text/html": [
              "<div>\n",
              "<style scoped>\n",
              "    .dataframe tbody tr th:only-of-type {\n",
              "        vertical-align: middle;\n",
              "    }\n",
              "\n",
              "    .dataframe tbody tr th {\n",
              "        vertical-align: top;\n",
              "    }\n",
              "\n",
              "    .dataframe thead th {\n",
              "        text-align: right;\n",
              "    }\n",
              "</style>\n",
              "<table border=\"1\" class=\"dataframe\">\n",
              "  <thead>\n",
              "    <tr style=\"text-align: right;\">\n",
              "      <th></th>\n",
              "      <th>ApplicantIncome</th>\n",
              "      <th>CoapplicantIncome</th>\n",
              "      <th>LoanAmount</th>\n",
              "      <th>Loan_Amount_Term</th>\n",
              "      <th>Credit_History</th>\n",
              "      <th>Gender_Male</th>\n",
              "      <th>Married_Yes</th>\n",
              "      <th>Dependents_1</th>\n",
              "      <th>Dependents_2</th>\n",
              "      <th>Dependents_3+</th>\n",
              "      <th>Education_Not Graduate</th>\n",
              "      <th>Self_Employed_Yes</th>\n",
              "      <th>Property_Area_Semiurban</th>\n",
              "      <th>Property_Area_Urban</th>\n",
              "      <th>Loan_Status_Y</th>\n",
              "    </tr>\n",
              "  </thead>\n",
              "  <tbody>\n",
              "    <tr>\n",
              "      <th>0</th>\n",
              "      <td>4583</td>\n",
              "      <td>1508.0</td>\n",
              "      <td>128</td>\n",
              "      <td>360</td>\n",
              "      <td>1</td>\n",
              "      <td>1</td>\n",
              "      <td>1</td>\n",
              "      <td>1</td>\n",
              "      <td>0</td>\n",
              "      <td>0</td>\n",
              "      <td>0</td>\n",
              "      <td>0</td>\n",
              "      <td>0</td>\n",
              "      <td>0</td>\n",
              "      <td>0</td>\n",
              "    </tr>\n",
              "    <tr>\n",
              "      <th>1</th>\n",
              "      <td>3000</td>\n",
              "      <td>0.0</td>\n",
              "      <td>66</td>\n",
              "      <td>360</td>\n",
              "      <td>1</td>\n",
              "      <td>1</td>\n",
              "      <td>1</td>\n",
              "      <td>0</td>\n",
              "      <td>0</td>\n",
              "      <td>0</td>\n",
              "      <td>0</td>\n",
              "      <td>1</td>\n",
              "      <td>0</td>\n",
              "      <td>1</td>\n",
              "      <td>1</td>\n",
              "    </tr>\n",
              "    <tr>\n",
              "      <th>2</th>\n",
              "      <td>2583</td>\n",
              "      <td>2358.0</td>\n",
              "      <td>120</td>\n",
              "      <td>360</td>\n",
              "      <td>1</td>\n",
              "      <td>1</td>\n",
              "      <td>1</td>\n",
              "      <td>0</td>\n",
              "      <td>0</td>\n",
              "      <td>0</td>\n",
              "      <td>1</td>\n",
              "      <td>0</td>\n",
              "      <td>0</td>\n",
              "      <td>1</td>\n",
              "      <td>1</td>\n",
              "    </tr>\n",
              "    <tr>\n",
              "      <th>3</th>\n",
              "      <td>6000</td>\n",
              "      <td>0.0</td>\n",
              "      <td>141</td>\n",
              "      <td>360</td>\n",
              "      <td>1</td>\n",
              "      <td>1</td>\n",
              "      <td>0</td>\n",
              "      <td>0</td>\n",
              "      <td>0</td>\n",
              "      <td>0</td>\n",
              "      <td>0</td>\n",
              "      <td>0</td>\n",
              "      <td>0</td>\n",
              "      <td>1</td>\n",
              "      <td>1</td>\n",
              "    </tr>\n",
              "    <tr>\n",
              "      <th>4</th>\n",
              "      <td>5417</td>\n",
              "      <td>4196.0</td>\n",
              "      <td>267</td>\n",
              "      <td>360</td>\n",
              "      <td>1</td>\n",
              "      <td>1</td>\n",
              "      <td>1</td>\n",
              "      <td>0</td>\n",
              "      <td>1</td>\n",
              "      <td>0</td>\n",
              "      <td>0</td>\n",
              "      <td>1</td>\n",
              "      <td>0</td>\n",
              "      <td>1</td>\n",
              "      <td>1</td>\n",
              "    </tr>\n",
              "  </tbody>\n",
              "</table>\n",
              "</div>"
            ],
            "text/plain": [
              "   ApplicantIncome  CoapplicantIncome  ...  Property_Area_Urban  Loan_Status_Y\n",
              "0             4583             1508.0  ...                    0              0\n",
              "1             3000                0.0  ...                    1              1\n",
              "2             2583             2358.0  ...                    1              1\n",
              "3             6000                0.0  ...                    1              1\n",
              "4             5417             4196.0  ...                    1              1\n",
              "\n",
              "[5 rows x 15 columns]"
            ]
          },
          "metadata": {
            "tags": []
          },
          "execution_count": 86
        }
      ]
    },
    {
      "cell_type": "code",
      "metadata": {
        "id": "iMmbXlJIfBqc"
      },
      "source": [
        "X=df_encoded.drop(columns='Loan_Status_Y')\n",
        "y=df_encoded['Loan_Status_Y']"
      ],
      "execution_count": 89,
      "outputs": []
    },
    {
      "cell_type": "code",
      "metadata": {
        "id": "gXIjEIdmLHiA"
      },
      "source": [
        "from sklearn.model_selection import train_test_split\n",
        "X_train, X_test, y_train, y_test = model_selection.train_test_split(X, y, test_size=0.2, random_state=7)"
      ],
      "execution_count": 90,
      "outputs": []
    },
    {
      "cell_type": "code",
      "metadata": {
        "colab": {
          "base_uri": "https://localhost:8080/"
        },
        "id": "ldvc4qp8NuEy",
        "outputId": "f823a32b-43d2-44b0-d58f-aad51b9a4280"
      },
      "source": [
        "print(\"Shape of X_train\",train_X.shape)\n",
        "print(\"Shape of X_test\",test_X.shape)\n",
        "print(\"Shape of y_train\",train_y.shape)\n",
        "print(\"Shape of y_test\",test_y.shape)"
      ],
      "execution_count": 91,
      "outputs": [
        {
          "output_type": "stream",
          "text": [
            "Shape of X_train (384, 5)\n",
            "Shape of X_test (96, 5)\n",
            "Shape of y_train (384,)\n",
            "Shape of y_test (96,)\n"
          ],
          "name": "stdout"
        }
      ]
    },
    {
      "cell_type": "code",
      "metadata": {
        "colab": {
          "base_uri": "https://localhost:8080/"
        },
        "id": "YZoJ3erlLKD9",
        "outputId": "bf82667c-0012-4b35-a3fb-ef233c169f86"
      },
      "source": [
        "from sklearn.tree import DecisionTreeClassifier\n",
        "model =DecisionTreeClassifier()\n",
        "model.fit(X_train, y_train)"
      ],
      "execution_count": 93,
      "outputs": [
        {
          "output_type": "execute_result",
          "data": {
            "text/plain": [
              "DecisionTreeClassifier(ccp_alpha=0.0, class_weight=None, criterion='gini',\n",
              "                       max_depth=None, max_features=None, max_leaf_nodes=None,\n",
              "                       min_impurity_decrease=0.0, min_impurity_split=None,\n",
              "                       min_samples_leaf=1, min_samples_split=2,\n",
              "                       min_weight_fraction_leaf=0.0, presort='deprecated',\n",
              "                       random_state=None, splitter='best')"
            ]
          },
          "metadata": {
            "tags": []
          },
          "execution_count": 93
        }
      ]
    },
    {
      "cell_type": "code",
      "metadata": {
        "colab": {
          "base_uri": "https://localhost:8080/"
        },
        "id": "VSMkiPZTgNgW",
        "outputId": "9398f51d-c032-4913-cd90-6fcf54883d9d"
      },
      "source": [
        "from sklearn.tree import DecisionTreeClassifier\n",
        "mymodel=DecisionTreeClassifier(random_state=5)\n",
        "model.fit(X_train,y_train)"
      ],
      "execution_count": 95,
      "outputs": [
        {
          "output_type": "execute_result",
          "data": {
            "text/plain": [
              "DecisionTreeClassifier(ccp_alpha=0.0, class_weight=None, criterion='gini',\n",
              "                       max_depth=None, max_features=None, max_leaf_nodes=None,\n",
              "                       min_impurity_decrease=0.0, min_impurity_split=None,\n",
              "                       min_samples_leaf=1, min_samples_split=2,\n",
              "                       min_weight_fraction_leaf=0.0, presort='deprecated',\n",
              "                       random_state=None, splitter='best')"
            ]
          },
          "metadata": {
            "tags": []
          },
          "execution_count": 95
        }
      ]
    },
    {
      "cell_type": "code",
      "metadata": {
        "colab": {
          "base_uri": "https://localhost:8080/"
        },
        "id": "6fx5VGI8gXs4",
        "outputId": "8d0dacb3-1bb7-4db9-dcf3-e65eac82acc3"
      },
      "source": [
        "#Predicting the values (Scores)\n",
        "y_pred=model.predict(X_test)\n",
        "y_pred"
      ],
      "execution_count": 96,
      "outputs": [
        {
          "output_type": "execute_result",
          "data": {
            "text/plain": [
              "array([1, 1, 0, 1, 1, 1, 0, 1, 1, 0, 1, 1, 1, 1, 1, 1, 0, 1, 0, 0, 1, 1,\n",
              "       0, 1, 1, 1, 1, 1, 1, 0, 1, 1, 1, 1, 0, 0, 1, 0, 0, 0, 0, 1, 1, 1,\n",
              "       1, 1, 1, 0, 1, 1, 1, 1, 1, 1, 0, 1, 1, 0, 0, 0, 0, 1, 1, 0, 0, 0,\n",
              "       1, 0, 0, 0, 1, 1, 1, 1, 1, 1, 1, 0, 1, 0, 0, 1, 0, 0, 0, 0, 1, 1,\n",
              "       1, 1, 1, 0, 1, 0, 0, 0], dtype=uint8)"
            ]
          },
          "metadata": {
            "tags": []
          },
          "execution_count": 96
        }
      ]
    },
    {
      "cell_type": "code",
      "metadata": {
        "colab": {
          "base_uri": "https://localhost:8080/"
        },
        "id": "NgOxfNvRgf_2",
        "outputId": "31f279e7-f20e-447e-c9e6-5d314f69912f"
      },
      "source": [
        "from sklearn.metrics import mean_squared_error\n",
        "mse = mean_squared_error(y_test, y_pred)\n",
        "mse"
      ],
      "execution_count": 97,
      "outputs": [
        {
          "output_type": "execute_result",
          "data": {
            "text/plain": [
              "0.3333333333333333"
            ]
          },
          "metadata": {
            "tags": []
          },
          "execution_count": 97
        }
      ]
    },
    {
      "cell_type": "code",
      "metadata": {
        "colab": {
          "base_uri": "https://localhost:8080/",
          "height": 419
        },
        "id": "_nKgNfybgkWZ",
        "outputId": "ed45c64f-6a86-416e-c56c-a1f4d5e80a01"
      },
      "source": [
        "df1 =pd.DataFrame({'Actual': y_test, 'Predicted': y_pred})    \n",
        "df1 "
      ],
      "execution_count": 98,
      "outputs": [
        {
          "output_type": "execute_result",
          "data": {
            "text/html": [
              "<div>\n",
              "<style scoped>\n",
              "    .dataframe tbody tr th:only-of-type {\n",
              "        vertical-align: middle;\n",
              "    }\n",
              "\n",
              "    .dataframe tbody tr th {\n",
              "        vertical-align: top;\n",
              "    }\n",
              "\n",
              "    .dataframe thead th {\n",
              "        text-align: right;\n",
              "    }\n",
              "</style>\n",
              "<table border=\"1\" class=\"dataframe\">\n",
              "  <thead>\n",
              "    <tr style=\"text-align: right;\">\n",
              "      <th></th>\n",
              "      <th>Actual</th>\n",
              "      <th>Predicted</th>\n",
              "    </tr>\n",
              "  </thead>\n",
              "  <tbody>\n",
              "    <tr>\n",
              "      <th>118</th>\n",
              "      <td>0</td>\n",
              "      <td>1</td>\n",
              "    </tr>\n",
              "    <tr>\n",
              "      <th>448</th>\n",
              "      <td>0</td>\n",
              "      <td>1</td>\n",
              "    </tr>\n",
              "    <tr>\n",
              "      <th>452</th>\n",
              "      <td>1</td>\n",
              "      <td>0</td>\n",
              "    </tr>\n",
              "    <tr>\n",
              "      <th>378</th>\n",
              "      <td>1</td>\n",
              "      <td>1</td>\n",
              "    </tr>\n",
              "    <tr>\n",
              "      <th>300</th>\n",
              "      <td>1</td>\n",
              "      <td>1</td>\n",
              "    </tr>\n",
              "    <tr>\n",
              "      <th>...</th>\n",
              "      <td>...</td>\n",
              "      <td>...</td>\n",
              "    </tr>\n",
              "    <tr>\n",
              "      <th>50</th>\n",
              "      <td>0</td>\n",
              "      <td>0</td>\n",
              "    </tr>\n",
              "    <tr>\n",
              "      <th>414</th>\n",
              "      <td>1</td>\n",
              "      <td>1</td>\n",
              "    </tr>\n",
              "    <tr>\n",
              "      <th>14</th>\n",
              "      <td>0</td>\n",
              "      <td>0</td>\n",
              "    </tr>\n",
              "    <tr>\n",
              "      <th>470</th>\n",
              "      <td>1</td>\n",
              "      <td>0</td>\n",
              "    </tr>\n",
              "    <tr>\n",
              "      <th>101</th>\n",
              "      <td>0</td>\n",
              "      <td>0</td>\n",
              "    </tr>\n",
              "  </tbody>\n",
              "</table>\n",
              "<p>96 rows × 2 columns</p>\n",
              "</div>"
            ],
            "text/plain": [
              "     Actual  Predicted\n",
              "118       0          1\n",
              "448       0          1\n",
              "452       1          0\n",
              "378       1          1\n",
              "300       1          1\n",
              "..      ...        ...\n",
              "50        0          0\n",
              "414       1          1\n",
              "14        0          0\n",
              "470       1          0\n",
              "101       0          0\n",
              "\n",
              "[96 rows x 2 columns]"
            ]
          },
          "metadata": {
            "tags": []
          },
          "execution_count": 98
        }
      ]
    },
    {
      "cell_type": "code",
      "metadata": {
        "colab": {
          "base_uri": "https://localhost:8080/",
          "height": 1000
        },
        "id": "KVhUuanGmbXY",
        "outputId": "99a05ac7-b1a4-4ffc-a10b-2af05c20652a"
      },
      "source": [
        "#Tree plotting \n",
        "from sklearn import tree\n",
        "tree.plot_tree(model)"
      ],
      "execution_count": 104,
      "outputs": [
        {
          "output_type": "execute_result",
          "data": {
            "text/plain": [
              "[Text(108.53145292207792, 211.4, 'X[4] <= 0.5\\ngini = 0.415\\nsamples = 384\\nvalue = [113, 271]'),\n",
              " Text(33.69740259740259, 199.32, 'X[1] <= 8115.0\\ngini = 0.194\\nsamples = 55\\nvalue = [49, 6]'),\n",
              " Text(22.827272727272728, 187.24, 'X[0] <= 4316.5\\ngini = 0.171\\nsamples = 53\\nvalue = [48, 5]'),\n",
              " Text(14.13116883116883, 175.16, 'X[3] <= 240.0\\ngini = 0.061\\nsamples = 32\\nvalue = [31, 1]'),\n",
              " Text(9.783116883116882, 163.07999999999998, 'X[0] <= 2546.0\\ngini = 0.278\\nsamples = 6\\nvalue = [5, 1]'),\n",
              " Text(5.4350649350649345, 151.0, 'gini = 0.0\\nsamples = 1\\nvalue = [0, 1]'),\n",
              " Text(14.13116883116883, 151.0, 'gini = 0.0\\nsamples = 5\\nvalue = [5, 0]'),\n",
              " Text(18.47922077922078, 163.07999999999998, 'gini = 0.0\\nsamples = 26\\nvalue = [26, 0]'),\n",
              " Text(31.523376623376624, 175.16, 'X[0] <= 5665.0\\ngini = 0.308\\nsamples = 21\\nvalue = [17, 4]'),\n",
              " Text(27.175324675324674, 163.07999999999998, 'X[2] <= 146.5\\ngini = 0.49\\nsamples = 7\\nvalue = [3, 4]'),\n",
              " Text(22.827272727272728, 151.0, 'X[12] <= 0.5\\ngini = 0.375\\nsamples = 4\\nvalue = [3, 1]'),\n",
              " Text(18.47922077922078, 138.92000000000002, 'gini = 0.0\\nsamples = 1\\nvalue = [0, 1]'),\n",
              " Text(27.175324675324674, 138.92000000000002, 'gini = 0.0\\nsamples = 3\\nvalue = [3, 0]'),\n",
              " Text(31.523376623376624, 151.0, 'gini = 0.0\\nsamples = 3\\nvalue = [0, 3]'),\n",
              " Text(35.871428571428574, 163.07999999999998, 'gini = 0.0\\nsamples = 14\\nvalue = [14, 0]'),\n",
              " Text(44.567532467532466, 187.24, 'X[5] <= 0.5\\ngini = 0.5\\nsamples = 2\\nvalue = [1, 1]'),\n",
              " Text(40.21948051948052, 175.16, 'gini = 0.0\\nsamples = 1\\nvalue = [0, 1]'),\n",
              " Text(48.91558441558441, 175.16, 'gini = 0.0\\nsamples = 1\\nvalue = [1, 0]'),\n",
              " Text(183.36550324675324, 199.32, 'X[3] <= 48.0\\ngini = 0.313\\nsamples = 329\\nvalue = [64, 265]'),\n",
              " Text(179.0174512987013, 187.24, 'gini = 0.0\\nsamples = 2\\nvalue = [2, 0]'),\n",
              " Text(187.7135551948052, 187.24, 'X[12] <= 0.5\\ngini = 0.307\\nsamples = 327\\nvalue = [62, 265]'),\n",
              " Text(74.59626623376623, 175.16, 'X[1] <= 14053.0\\ngini = 0.368\\nsamples = 189\\nvalue = [46, 143]'),\n",
              " Text(70.24821428571428, 163.07999999999998, 'X[0] <= 17916.5\\ngini = 0.36\\nsamples = 187\\nvalue = [44, 143]'),\n",
              " Text(65.90016233766234, 151.0, 'X[0] <= 1490.0\\ngini = 0.351\\nsamples = 185\\nvalue = [42, 143]'),\n",
              " Text(35.871428571428574, 138.92000000000002, 'X[2] <= 26.0\\ngini = 0.48\\nsamples = 5\\nvalue = [3, 2]'),\n",
              " Text(31.523376623376624, 126.84, 'gini = 0.0\\nsamples = 1\\nvalue = [0, 1]'),\n",
              " Text(40.21948051948052, 126.84, 'X[3] <= 420.0\\ngini = 0.375\\nsamples = 4\\nvalue = [3, 1]'),\n",
              " Text(35.871428571428574, 114.75999999999999, 'gini = 0.0\\nsamples = 3\\nvalue = [3, 0]'),\n",
              " Text(44.567532467532466, 114.75999999999999, 'gini = 0.0\\nsamples = 1\\nvalue = [0, 1]'),\n",
              " Text(95.92889610389611, 138.92000000000002, 'X[2] <= 19.5\\ngini = 0.339\\nsamples = 180\\nvalue = [39, 141]'),\n",
              " Text(91.58084415584415, 126.84, 'gini = 0.0\\nsamples = 1\\nvalue = [1, 0]'),\n",
              " Text(100.27694805194805, 126.84, 'X[0] <= 3361.5\\ngini = 0.334\\nsamples = 179\\nvalue = [38, 141]'),\n",
              " Text(53.263636363636365, 114.75999999999999, 'X[7] <= 0.5\\ngini = 0.257\\nsamples = 66\\nvalue = [10, 56]'),\n",
              " Text(41.3064935064935, 102.67999999999999, 'X[13] <= 0.5\\ngini = 0.209\\nsamples = 59\\nvalue = [7, 52]'),\n",
              " Text(30.436363636363637, 90.6, 'X[1] <= 1603.0\\ngini = 0.337\\nsamples = 28\\nvalue = [6, 22]'),\n",
              " Text(21.740259740259738, 78.52000000000001, 'X[1] <= 276.06\\ngini = 0.496\\nsamples = 11\\nvalue = [5, 6]'),\n",
              " Text(17.392207792207792, 66.44, 'X[0] <= 3172.5\\ngini = 0.444\\nsamples = 9\\nvalue = [3, 6]'),\n",
              " Text(13.044155844155844, 54.359999999999985, 'X[2] <= 65.5\\ngini = 0.375\\nsamples = 8\\nvalue = [2, 6]'),\n",
              " Text(8.696103896103896, 42.28, 'X[0] <= 2442.5\\ngini = 0.444\\nsamples = 3\\nvalue = [2, 1]'),\n",
              " Text(4.348051948051948, 30.19999999999999, 'gini = 0.0\\nsamples = 1\\nvalue = [1, 0]'),\n",
              " Text(13.044155844155844, 30.19999999999999, 'X[10] <= 0.5\\ngini = 0.5\\nsamples = 2\\nvalue = [1, 1]'),\n",
              " Text(8.696103896103896, 18.120000000000005, 'gini = 0.0\\nsamples = 1\\nvalue = [0, 1]'),\n",
              " Text(17.392207792207792, 18.120000000000005, 'gini = 0.0\\nsamples = 1\\nvalue = [1, 0]'),\n",
              " Text(17.392207792207792, 42.28, 'gini = 0.0\\nsamples = 5\\nvalue = [0, 5]'),\n",
              " Text(21.740259740259738, 54.359999999999985, 'gini = 0.0\\nsamples = 1\\nvalue = [1, 0]'),\n",
              " Text(26.088311688311688, 66.44, 'gini = 0.0\\nsamples = 2\\nvalue = [2, 0]'),\n",
              " Text(39.13246753246753, 78.52000000000001, 'X[0] <= 1949.0\\ngini = 0.111\\nsamples = 17\\nvalue = [1, 16]'),\n",
              " Text(34.784415584415584, 66.44, 'gini = 0.0\\nsamples = 1\\nvalue = [1, 0]'),\n",
              " Text(43.480519480519476, 66.44, 'gini = 0.0\\nsamples = 16\\nvalue = [0, 16]'),\n",
              " Text(52.176623376623375, 90.6, 'X[0] <= 3163.0\\ngini = 0.062\\nsamples = 31\\nvalue = [1, 30]'),\n",
              " Text(47.82857142857143, 78.52000000000001, 'gini = 0.0\\nsamples = 21\\nvalue = [0, 21]'),\n",
              " Text(56.52467532467532, 78.52000000000001, 'X[0] <= 3183.5\\ngini = 0.18\\nsamples = 10\\nvalue = [1, 9]'),\n",
              " Text(52.176623376623375, 66.44, 'gini = 0.0\\nsamples = 1\\nvalue = [1, 0]'),\n",
              " Text(60.872727272727275, 66.44, 'gini = 0.0\\nsamples = 9\\nvalue = [0, 9]'),\n",
              " Text(65.22077922077922, 102.67999999999999, 'X[2] <= 104.5\\ngini = 0.49\\nsamples = 7\\nvalue = [3, 4]'),\n",
              " Text(60.872727272727275, 90.6, 'gini = 0.0\\nsamples = 3\\nvalue = [0, 3]'),\n",
              " Text(69.56883116883117, 90.6, 'X[1] <= 2253.5\\ngini = 0.375\\nsamples = 4\\nvalue = [3, 1]'),\n",
              " Text(65.22077922077922, 78.52000000000001, 'gini = 0.0\\nsamples = 2\\nvalue = [2, 0]'),\n",
              " Text(73.91688311688311, 78.52000000000001, 'X[2] <= 120.5\\ngini = 0.5\\nsamples = 2\\nvalue = [1, 1]'),\n",
              " Text(69.56883116883117, 66.44, 'gini = 0.0\\nsamples = 1\\nvalue = [1, 0]'),\n",
              " Text(78.26493506493506, 66.44, 'gini = 0.0\\nsamples = 1\\nvalue = [0, 1]'),\n",
              " Text(147.29025974025973, 114.75999999999999, 'X[0] <= 5179.0\\ngini = 0.373\\nsamples = 113\\nvalue = [28, 85]'),\n",
              " Text(129.35454545454544, 102.67999999999999, 'X[0] <= 4560.0\\ngini = 0.457\\nsamples = 51\\nvalue = [18, 33]'),\n",
              " Text(106.52727272727273, 90.6, 'X[0] <= 3888.5\\ngini = 0.393\\nsamples = 41\\nvalue = [11, 30]'),\n",
              " Text(91.30909090909091, 78.52000000000001, 'X[2] <= 97.5\\ngini = 0.488\\nsamples = 19\\nvalue = [8, 11]'),\n",
              " Text(86.96103896103895, 66.44, 'gini = 0.0\\nsamples = 3\\nvalue = [3, 0]'),\n",
              " Text(95.65714285714286, 66.44, 'X[1] <= 2100.0\\ngini = 0.43\\nsamples = 16\\nvalue = [5, 11]'),\n",
              " Text(86.96103896103895, 54.359999999999985, 'X[8] <= 0.5\\ngini = 0.278\\nsamples = 12\\nvalue = [2, 10]'),\n",
              " Text(82.612987012987, 42.28, 'X[2] <= 105.0\\ngini = 0.165\\nsamples = 11\\nvalue = [1, 10]'),\n",
              " Text(78.26493506493506, 30.19999999999999, 'X[1] <= 643.5\\ngini = 0.5\\nsamples = 2\\nvalue = [1, 1]'),\n",
              " Text(73.91688311688311, 18.120000000000005, 'gini = 0.0\\nsamples = 1\\nvalue = [0, 1]'),\n",
              " Text(82.612987012987, 18.120000000000005, 'gini = 0.0\\nsamples = 1\\nvalue = [1, 0]'),\n",
              " Text(86.96103896103895, 30.19999999999999, 'gini = 0.0\\nsamples = 9\\nvalue = [0, 9]'),\n",
              " Text(91.30909090909091, 42.28, 'gini = 0.0\\nsamples = 1\\nvalue = [1, 0]'),\n",
              " Text(104.35324675324675, 54.359999999999985, 'X[9] <= 0.5\\ngini = 0.375\\nsamples = 4\\nvalue = [3, 1]'),\n",
              " Text(100.0051948051948, 42.28, 'gini = 0.0\\nsamples = 3\\nvalue = [3, 0]'),\n",
              " Text(108.7012987012987, 42.28, 'gini = 0.0\\nsamples = 1\\nvalue = [0, 1]'),\n",
              " Text(121.74545454545455, 78.52000000000001, 'X[0] <= 4195.5\\ngini = 0.236\\nsamples = 22\\nvalue = [3, 19]'),\n",
              " Text(117.39740259740259, 66.44, 'gini = 0.0\\nsamples = 11\\nvalue = [0, 11]'),\n",
              " Text(126.0935064935065, 66.44, 'X[1] <= 2232.5\\ngini = 0.397\\nsamples = 11\\nvalue = [3, 8]'),\n",
              " Text(121.74545454545455, 54.359999999999985, 'X[0] <= 4213.0\\ngini = 0.198\\nsamples = 9\\nvalue = [1, 8]'),\n",
              " Text(117.39740259740259, 42.28, 'gini = 0.0\\nsamples = 1\\nvalue = [1, 0]'),\n",
              " Text(126.0935064935065, 42.28, 'gini = 0.0\\nsamples = 8\\nvalue = [0, 8]'),\n",
              " Text(130.44155844155844, 54.359999999999985, 'gini = 0.0\\nsamples = 2\\nvalue = [2, 0]'),\n",
              " Text(152.1818181818182, 90.6, 'X[2] <= 124.0\\ngini = 0.42\\nsamples = 10\\nvalue = [7, 3]'),\n",
              " Text(147.83376623376623, 78.52000000000001, 'X[10] <= 0.5\\ngini = 0.5\\nsamples = 6\\nvalue = [3, 3]'),\n",
              " Text(143.4857142857143, 66.44, 'X[2] <= 116.0\\ngini = 0.375\\nsamples = 4\\nvalue = [3, 1]'),\n",
              " Text(139.13766233766233, 54.359999999999985, 'gini = 0.0\\nsamples = 3\\nvalue = [3, 0]'),\n",
              " Text(147.83376623376623, 54.359999999999985, 'gini = 0.0\\nsamples = 1\\nvalue = [0, 1]'),\n",
              " Text(152.1818181818182, 66.44, 'gini = 0.0\\nsamples = 2\\nvalue = [0, 2]'),\n",
              " Text(156.52987012987012, 78.52000000000001, 'gini = 0.0\\nsamples = 4\\nvalue = [4, 0]'),\n",
              " Text(165.225974025974, 102.67999999999999, 'X[0] <= 6016.5\\ngini = 0.271\\nsamples = 62\\nvalue = [10, 52]'),\n",
              " Text(160.87792207792208, 90.6, 'gini = 0.0\\nsamples = 18\\nvalue = [0, 18]'),\n",
              " Text(169.57402597402597, 90.6, 'X[0] <= 6091.5\\ngini = 0.351\\nsamples = 44\\nvalue = [10, 34]'),\n",
              " Text(165.225974025974, 78.52000000000001, 'gini = 0.0\\nsamples = 2\\nvalue = [2, 0]'),\n",
              " Text(173.9220779220779, 78.52000000000001, 'X[2] <= 217.5\\ngini = 0.308\\nsamples = 42\\nvalue = [8, 34]'),\n",
              " Text(160.87792207792208, 66.44, 'X[0] <= 6233.0\\ngini = 0.191\\nsamples = 28\\nvalue = [3, 25]'),\n",
              " Text(156.52987012987012, 54.359999999999985, 'gini = 0.0\\nsamples = 1\\nvalue = [1, 0]'),\n",
              " Text(165.225974025974, 54.359999999999985, 'X[0] <= 9851.5\\ngini = 0.137\\nsamples = 27\\nvalue = [2, 25]'),\n",
              " Text(160.87792207792208, 42.28, 'gini = 0.0\\nsamples = 20\\nvalue = [0, 20]'),\n",
              " Text(169.57402597402597, 42.28, 'X[0] <= 11378.5\\ngini = 0.408\\nsamples = 7\\nvalue = [2, 5]'),\n",
              " Text(165.225974025974, 30.19999999999999, 'gini = 0.0\\nsamples = 2\\nvalue = [2, 0]'),\n",
              " Text(173.9220779220779, 30.19999999999999, 'gini = 0.0\\nsamples = 5\\nvalue = [0, 5]'),\n",
              " Text(186.96623376623376, 66.44, 'X[6] <= 0.5\\ngini = 0.459\\nsamples = 14\\nvalue = [5, 9]'),\n",
              " Text(182.61818181818182, 54.359999999999985, 'gini = 0.0\\nsamples = 3\\nvalue = [3, 0]'),\n",
              " Text(191.31428571428572, 54.359999999999985, 'X[2] <= 308.0\\ngini = 0.298\\nsamples = 11\\nvalue = [2, 9]'),\n",
              " Text(186.96623376623376, 42.28, 'X[1] <= 1613.0\\ngini = 0.408\\nsamples = 7\\nvalue = [2, 5]'),\n",
              " Text(182.61818181818182, 30.19999999999999, 'X[0] <= 8718.5\\ngini = 0.278\\nsamples = 6\\nvalue = [1, 5]'),\n",
              " Text(178.27012987012986, 18.120000000000005, 'X[11] <= 0.5\\ngini = 0.5\\nsamples = 2\\nvalue = [1, 1]'),\n",
              " Text(173.9220779220779, 6.039999999999992, 'gini = 0.0\\nsamples = 1\\nvalue = [1, 0]'),\n",
              " Text(182.61818181818182, 6.039999999999992, 'gini = 0.0\\nsamples = 1\\nvalue = [0, 1]'),\n",
              " Text(186.96623376623376, 18.120000000000005, 'gini = 0.0\\nsamples = 4\\nvalue = [0, 4]'),\n",
              " Text(191.31428571428572, 30.19999999999999, 'gini = 0.0\\nsamples = 1\\nvalue = [1, 0]'),\n",
              " Text(195.66233766233765, 42.28, 'gini = 0.0\\nsamples = 4\\nvalue = [0, 4]'),\n",
              " Text(74.59626623376623, 151.0, 'gini = 0.0\\nsamples = 2\\nvalue = [2, 0]'),\n",
              " Text(78.94431818181818, 163.07999999999998, 'gini = 0.0\\nsamples = 2\\nvalue = [2, 0]'),\n",
              " Text(300.83084415584415, 175.16, 'X[1] <= 6160.0\\ngini = 0.205\\nsamples = 138\\nvalue = [16, 122]'),\n",
              " Text(275.5577922077922, 163.07999999999998, 'X[0] <= 8333.5\\ngini = 0.176\\nsamples = 133\\nvalue = [13, 120]'),\n",
              " Text(246.75194805194803, 151.0, 'X[6] <= 0.5\\ngini = 0.14\\nsamples = 119\\nvalue = [9, 110]'),\n",
              " Text(226.0987012987013, 138.92000000000002, 'X[7] <= 0.5\\ngini = 0.272\\nsamples = 37\\nvalue = [6, 31]'),\n",
              " Text(217.4025974025974, 126.84, 'X[2] <= 98.5\\ngini = 0.208\\nsamples = 34\\nvalue = [4, 30]'),\n",
              " Text(213.05454545454546, 114.75999999999999, 'gini = 0.0\\nsamples = 11\\nvalue = [0, 11]'),\n",
              " Text(221.75064935064935, 114.75999999999999, 'X[2] <= 99.5\\ngini = 0.287\\nsamples = 23\\nvalue = [4, 19]'),\n",
              " Text(217.4025974025974, 102.67999999999999, 'gini = 0.0\\nsamples = 1\\nvalue = [1, 0]'),\n",
              " Text(226.0987012987013, 102.67999999999999, 'X[1] <= 1954.0\\ngini = 0.236\\nsamples = 22\\nvalue = [3, 19]'),\n",
              " Text(221.75064935064935, 90.6, 'X[1] <= 1791.5\\ngini = 0.337\\nsamples = 14\\nvalue = [3, 11]'),\n",
              " Text(217.4025974025974, 78.52000000000001, 'X[0] <= 4388.5\\ngini = 0.26\\nsamples = 13\\nvalue = [2, 11]'),\n",
              " Text(213.05454545454546, 66.44, 'X[0] <= 4181.5\\ngini = 0.375\\nsamples = 8\\nvalue = [2, 6]'),\n",
              " Text(208.7064935064935, 54.359999999999985, 'X[2] <= 124.5\\ngini = 0.245\\nsamples = 7\\nvalue = [1, 6]'),\n",
              " Text(204.35844155844154, 42.28, 'gini = 0.0\\nsamples = 5\\nvalue = [0, 5]'),\n",
              " Text(213.05454545454546, 42.28, 'X[2] <= 129.5\\ngini = 0.5\\nsamples = 2\\nvalue = [1, 1]'),\n",
              " Text(208.7064935064935, 30.19999999999999, 'gini = 0.0\\nsamples = 1\\nvalue = [1, 0]'),\n",
              " Text(217.4025974025974, 30.19999999999999, 'gini = 0.0\\nsamples = 1\\nvalue = [0, 1]'),\n",
              " Text(217.4025974025974, 54.359999999999985, 'gini = 0.0\\nsamples = 1\\nvalue = [1, 0]'),\n",
              " Text(221.75064935064935, 66.44, 'gini = 0.0\\nsamples = 5\\nvalue = [0, 5]'),\n",
              " Text(226.0987012987013, 78.52000000000001, 'gini = 0.0\\nsamples = 1\\nvalue = [1, 0]'),\n",
              " Text(230.44675324675325, 90.6, 'gini = 0.0\\nsamples = 8\\nvalue = [0, 8]'),\n",
              " Text(234.79480519480518, 126.84, 'X[1] <= 651.0\\ngini = 0.444\\nsamples = 3\\nvalue = [2, 1]'),\n",
              " Text(230.44675324675325, 114.75999999999999, 'gini = 0.0\\nsamples = 2\\nvalue = [2, 0]'),\n",
              " Text(239.14285714285714, 114.75999999999999, 'gini = 0.0\\nsamples = 1\\nvalue = [0, 1]'),\n",
              " Text(267.4051948051948, 138.92000000000002, 'X[0] <= 6365.5\\ngini = 0.07\\nsamples = 82\\nvalue = [3, 79]'),\n",
              " Text(256.53506493506495, 126.84, 'X[2] <= 88.5\\ngini = 0.051\\nsamples = 77\\nvalue = [2, 75]'),\n",
              " Text(247.83896103896103, 114.75999999999999, 'X[2] <= 84.0\\ngini = 0.219\\nsamples = 8\\nvalue = [1, 7]'),\n",
              " Text(243.4909090909091, 102.67999999999999, 'gini = 0.0\\nsamples = 7\\nvalue = [0, 7]'),\n",
              " Text(252.187012987013, 102.67999999999999, 'gini = 0.0\\nsamples = 1\\nvalue = [1, 0]'),\n",
              " Text(265.2311688311688, 114.75999999999999, 'X[7] <= 0.5\\ngini = 0.029\\nsamples = 69\\nvalue = [1, 68]'),\n",
              " Text(260.8831168831169, 102.67999999999999, 'gini = 0.0\\nsamples = 56\\nvalue = [0, 56]'),\n",
              " Text(269.57922077922075, 102.67999999999999, 'X[1] <= 2541.5\\ngini = 0.142\\nsamples = 13\\nvalue = [1, 12]'),\n",
              " Text(265.2311688311688, 90.6, 'gini = 0.0\\nsamples = 11\\nvalue = [0, 11]'),\n",
              " Text(273.92727272727274, 90.6, 'X[3] <= 270.0\\ngini = 0.5\\nsamples = 2\\nvalue = [1, 1]'),\n",
              " Text(269.57922077922075, 78.52000000000001, 'gini = 0.0\\nsamples = 1\\nvalue = [0, 1]'),\n",
              " Text(278.27532467532467, 78.52000000000001, 'gini = 0.0\\nsamples = 1\\nvalue = [1, 0]'),\n",
              " Text(278.27532467532467, 126.84, 'X[2] <= 175.0\\ngini = 0.32\\nsamples = 5\\nvalue = [1, 4]'),\n",
              " Text(273.92727272727274, 114.75999999999999, 'gini = 0.0\\nsamples = 1\\nvalue = [1, 0]'),\n",
              " Text(282.6233766233766, 114.75999999999999, 'gini = 0.0\\nsamples = 4\\nvalue = [0, 4]'),\n",
              " Text(304.3636363636364, 151.0, 'X[11] <= 0.5\\ngini = 0.408\\nsamples = 14\\nvalue = [4, 10]'),\n",
              " Text(300.0155844155844, 138.92000000000002, 'X[2] <= 348.0\\ngini = 0.5\\nsamples = 8\\nvalue = [4, 4]'),\n",
              " Text(295.66753246753245, 126.84, 'X[2] <= 156.0\\ngini = 0.444\\nsamples = 6\\nvalue = [4, 2]'),\n",
              " Text(291.3194805194805, 114.75999999999999, 'gini = 0.0\\nsamples = 1\\nvalue = [0, 1]'),\n",
              " Text(300.0155844155844, 114.75999999999999, 'X[2] <= 221.0\\ngini = 0.32\\nsamples = 5\\nvalue = [4, 1]'),\n",
              " Text(295.66753246753245, 102.67999999999999, 'gini = 0.0\\nsamples = 3\\nvalue = [3, 0]'),\n",
              " Text(304.3636363636364, 102.67999999999999, 'X[2] <= 244.0\\ngini = 0.5\\nsamples = 2\\nvalue = [1, 1]'),\n",
              " Text(300.0155844155844, 90.6, 'gini = 0.0\\nsamples = 1\\nvalue = [0, 1]'),\n",
              " Text(308.7116883116883, 90.6, 'gini = 0.0\\nsamples = 1\\nvalue = [1, 0]'),\n",
              " Text(304.3636363636364, 126.84, 'gini = 0.0\\nsamples = 2\\nvalue = [0, 2]'),\n",
              " Text(308.7116883116883, 138.92000000000002, 'gini = 0.0\\nsamples = 6\\nvalue = [0, 6]'),\n",
              " Text(326.1038961038961, 163.07999999999998, 'X[0] <= 3330.5\\ngini = 0.48\\nsamples = 5\\nvalue = [3, 2]'),\n",
              " Text(321.75584415584416, 151.0, 'X[2] <= 86.5\\ngini = 0.444\\nsamples = 3\\nvalue = [1, 2]'),\n",
              " Text(317.4077922077922, 138.92000000000002, 'gini = 0.0\\nsamples = 1\\nvalue = [1, 0]'),\n",
              " Text(326.1038961038961, 138.92000000000002, 'gini = 0.0\\nsamples = 2\\nvalue = [0, 2]'),\n",
              " Text(330.451948051948, 151.0, 'gini = 0.0\\nsamples = 2\\nvalue = [2, 0]')]"
            ]
          },
          "metadata": {
            "tags": []
          },
          "execution_count": 104
        },
        {
          "output_type": "display_data",
          "data": {
            "image/png": "[encoded data removed]",
            "text/plain": [
              "<Figure size 432x288 with 1 Axes>"
            ]
          },
          "metadata": {
            "tags": [],
            "needs_background": "light"
          }
        }
      ]
    },
    {
      "cell_type": "code",
      "metadata": {
        "colab": {
          "base_uri": "https://localhost:8080/"
        },
        "id": "ciREaT1UmncC",
        "outputId": "2621c8bc-add1-4bff-a1a3-b84d4f015104"
      },
      "source": [
        "#Decision making in decision tree\n",
        "text_representation = tree.export_text(model)\n",
        "print(text_representation)"
      ],
      "execution_count": 105,
      "outputs": [
        {
          "output_type": "stream",
          "text": [
            "|--- feature_4 <= 0.50\n",
            "|   |--- feature_1 <= 8115.00\n",
            "|   |   |--- feature_0 <= 4316.50\n",
            "|   |   |   |--- feature_3 <= 240.00\n",
            "|   |   |   |   |--- feature_0 <= 2546.00\n",
            "|   |   |   |   |   |--- class: 1\n",
            "|   |   |   |   |--- feature_0 >  2546.00\n",
            "|   |   |   |   |   |--- class: 0\n",
            "|   |   |   |--- feature_3 >  240.00\n",
            "|   |   |   |   |--- class: 0\n",
            "|   |   |--- feature_0 >  4316.50\n",
            "|   |   |   |--- feature_0 <= 5665.00\n",
            "|   |   |   |   |--- feature_2 <= 146.50\n",
            "|   |   |   |   |   |--- feature_12 <= 0.50\n",
            "|   |   |   |   |   |   |--- class: 1\n",
            "|   |   |   |   |   |--- feature_12 >  0.50\n",
            "|   |   |   |   |   |   |--- class: 0\n",
            "|   |   |   |   |--- feature_2 >  146.50\n",
            "|   |   |   |   |   |--- class: 1\n",
            "|   |   |   |--- feature_0 >  5665.00\n",
            "|   |   |   |   |--- class: 0\n",
            "|   |--- feature_1 >  8115.00\n",
            "|   |   |--- feature_5 <= 0.50\n",
            "|   |   |   |--- class: 1\n",
            "|   |   |--- feature_5 >  0.50\n",
            "|   |   |   |--- class: 0\n",
            "|--- feature_4 >  0.50\n",
            "|   |--- feature_3 <= 48.00\n",
            "|   |   |--- class: 0\n",
            "|   |--- feature_3 >  48.00\n",
            "|   |   |--- feature_12 <= 0.50\n",
            "|   |   |   |--- feature_1 <= 14053.00\n",
            "|   |   |   |   |--- feature_0 <= 17916.50\n",
            "|   |   |   |   |   |--- feature_0 <= 1490.00\n",
            "|   |   |   |   |   |   |--- feature_2 <= 26.00\n",
            "|   |   |   |   |   |   |   |--- class: 1\n",
            "|   |   |   |   |   |   |--- feature_2 >  26.00\n",
            "|   |   |   |   |   |   |   |--- feature_3 <= 420.00\n",
            "|   |   |   |   |   |   |   |   |--- class: 0\n",
            "|   |   |   |   |   |   |   |--- feature_3 >  420.00\n",
            "|   |   |   |   |   |   |   |   |--- class: 1\n",
            "|   |   |   |   |   |--- feature_0 >  1490.00\n",
            "|   |   |   |   |   |   |--- feature_2 <= 19.50\n",
            "|   |   |   |   |   |   |   |--- class: 0\n",
            "|   |   |   |   |   |   |--- feature_2 >  19.50\n",
            "|   |   |   |   |   |   |   |--- feature_0 <= 3361.50\n",
            "|   |   |   |   |   |   |   |   |--- feature_7 <= 0.50\n",
            "|   |   |   |   |   |   |   |   |   |--- feature_13 <= 0.50\n",
            "|   |   |   |   |   |   |   |   |   |   |--- feature_1 <= 1603.00\n",
            "|   |   |   |   |   |   |   |   |   |   |   |--- truncated branch of depth 6\n",
            "|   |   |   |   |   |   |   |   |   |   |--- feature_1 >  1603.00\n",
            "|   |   |   |   |   |   |   |   |   |   |   |--- truncated branch of depth 2\n",
            "|   |   |   |   |   |   |   |   |   |--- feature_13 >  0.50\n",
            "|   |   |   |   |   |   |   |   |   |   |--- feature_0 <= 3163.00\n",
            "|   |   |   |   |   |   |   |   |   |   |   |--- class: 1\n",
            "|   |   |   |   |   |   |   |   |   |   |--- feature_0 >  3163.00\n",
            "|   |   |   |   |   |   |   |   |   |   |   |--- truncated branch of depth 2\n",
            "|   |   |   |   |   |   |   |   |--- feature_7 >  0.50\n",
            "|   |   |   |   |   |   |   |   |   |--- feature_2 <= 104.50\n",
            "|   |   |   |   |   |   |   |   |   |   |--- class: 1\n",
            "|   |   |   |   |   |   |   |   |   |--- feature_2 >  104.50\n",
            "|   |   |   |   |   |   |   |   |   |   |--- feature_1 <= 2253.50\n",
            "|   |   |   |   |   |   |   |   |   |   |   |--- class: 0\n",
            "|   |   |   |   |   |   |   |   |   |   |--- feature_1 >  2253.50\n",
            "|   |   |   |   |   |   |   |   |   |   |   |--- truncated branch of depth 2\n",
            "|   |   |   |   |   |   |   |--- feature_0 >  3361.50\n",
            "|   |   |   |   |   |   |   |   |--- feature_0 <= 5179.00\n",
            "|   |   |   |   |   |   |   |   |   |--- feature_0 <= 4560.00\n",
            "|   |   |   |   |   |   |   |   |   |   |--- feature_0 <= 3888.50\n",
            "|   |   |   |   |   |   |   |   |   |   |   |--- truncated branch of depth 6\n",
            "|   |   |   |   |   |   |   |   |   |   |--- feature_0 >  3888.50\n",
            "|   |   |   |   |   |   |   |   |   |   |   |--- truncated branch of depth 4\n",
            "|   |   |   |   |   |   |   |   |   |--- feature_0 >  4560.00\n",
            "|   |   |   |   |   |   |   |   |   |   |--- feature_2 <= 124.00\n",
            "|   |   |   |   |   |   |   |   |   |   |   |--- truncated branch of depth 3\n",
            "|   |   |   |   |   |   |   |   |   |   |--- feature_2 >  124.00\n",
            "|   |   |   |   |   |   |   |   |   |   |   |--- class: 0\n",
            "|   |   |   |   |   |   |   |   |--- feature_0 >  5179.00\n",
            "|   |   |   |   |   |   |   |   |   |--- feature_0 <= 6016.50\n",
            "|   |   |   |   |   |   |   |   |   |   |--- class: 1\n",
            "|   |   |   |   |   |   |   |   |   |--- feature_0 >  6016.50\n",
            "|   |   |   |   |   |   |   |   |   |   |--- feature_0 <= 6091.50\n",
            "|   |   |   |   |   |   |   |   |   |   |   |--- class: 0\n",
            "|   |   |   |   |   |   |   |   |   |   |--- feature_0 >  6091.50\n",
            "|   |   |   |   |   |   |   |   |   |   |   |--- truncated branch of depth 7\n",
            "|   |   |   |   |--- feature_0 >  17916.50\n",
            "|   |   |   |   |   |--- class: 0\n",
            "|   |   |   |--- feature_1 >  14053.00\n",
            "|   |   |   |   |--- class: 0\n",
            "|   |   |--- feature_12 >  0.50\n",
            "|   |   |   |--- feature_1 <= 6160.00\n",
            "|   |   |   |   |--- feature_0 <= 8333.50\n",
            "|   |   |   |   |   |--- feature_6 <= 0.50\n",
            "|   |   |   |   |   |   |--- feature_7 <= 0.50\n",
            "|   |   |   |   |   |   |   |--- feature_2 <= 98.50\n",
            "|   |   |   |   |   |   |   |   |--- class: 1\n",
            "|   |   |   |   |   |   |   |--- feature_2 >  98.50\n",
            "|   |   |   |   |   |   |   |   |--- feature_2 <= 99.50\n",
            "|   |   |   |   |   |   |   |   |   |--- class: 0\n",
            "|   |   |   |   |   |   |   |   |--- feature_2 >  99.50\n",
            "|   |   |   |   |   |   |   |   |   |--- feature_1 <= 1954.00\n",
            "|   |   |   |   |   |   |   |   |   |   |--- feature_1 <= 1791.50\n",
            "|   |   |   |   |   |   |   |   |   |   |   |--- truncated branch of depth 5\n",
            "|   |   |   |   |   |   |   |   |   |   |--- feature_1 >  1791.50\n",
            "|   |   |   |   |   |   |   |   |   |   |   |--- class: 0\n",
            "|   |   |   |   |   |   |   |   |   |--- feature_1 >  1954.00\n",
            "|   |   |   |   |   |   |   |   |   |   |--- class: 1\n",
            "|   |   |   |   |   |   |--- feature_7 >  0.50\n",
            "|   |   |   |   |   |   |   |--- feature_1 <= 651.00\n",
            "|   |   |   |   |   |   |   |   |--- class: 0\n",
            "|   |   |   |   |   |   |   |--- feature_1 >  651.00\n",
            "|   |   |   |   |   |   |   |   |--- class: 1\n",
            "|   |   |   |   |   |--- feature_6 >  0.50\n",
            "|   |   |   |   |   |   |--- feature_0 <= 6365.50\n",
            "|   |   |   |   |   |   |   |--- feature_2 <= 88.50\n",
            "|   |   |   |   |   |   |   |   |--- feature_2 <= 84.00\n",
            "|   |   |   |   |   |   |   |   |   |--- class: 1\n",
            "|   |   |   |   |   |   |   |   |--- feature_2 >  84.00\n",
            "|   |   |   |   |   |   |   |   |   |--- class: 0\n",
            "|   |   |   |   |   |   |   |--- feature_2 >  88.50\n",
            "|   |   |   |   |   |   |   |   |--- feature_7 <= 0.50\n",
            "|   |   |   |   |   |   |   |   |   |--- class: 1\n",
            "|   |   |   |   |   |   |   |   |--- feature_7 >  0.50\n",
            "|   |   |   |   |   |   |   |   |   |--- feature_1 <= 2541.50\n",
            "|   |   |   |   |   |   |   |   |   |   |--- class: 1\n",
            "|   |   |   |   |   |   |   |   |   |--- feature_1 >  2541.50\n",
            "|   |   |   |   |   |   |   |   |   |   |--- feature_3 <= 270.00\n",
            "|   |   |   |   |   |   |   |   |   |   |   |--- class: 1\n",
            "|   |   |   |   |   |   |   |   |   |   |--- feature_3 >  270.00\n",
            "|   |   |   |   |   |   |   |   |   |   |   |--- class: 0\n",
            "|   |   |   |   |   |   |--- feature_0 >  6365.50\n",
            "|   |   |   |   |   |   |   |--- feature_2 <= 175.00\n",
            "|   |   |   |   |   |   |   |   |--- class: 0\n",
            "|   |   |   |   |   |   |   |--- feature_2 >  175.00\n",
            "|   |   |   |   |   |   |   |   |--- class: 1\n",
            "|   |   |   |   |--- feature_0 >  8333.50\n",
            "|   |   |   |   |   |--- feature_11 <= 0.50\n",
            "|   |   |   |   |   |   |--- feature_2 <= 348.00\n",
            "|   |   |   |   |   |   |   |--- feature_2 <= 156.00\n",
            "|   |   |   |   |   |   |   |   |--- class: 1\n",
            "|   |   |   |   |   |   |   |--- feature_2 >  156.00\n",
            "|   |   |   |   |   |   |   |   |--- feature_2 <= 221.00\n",
            "|   |   |   |   |   |   |   |   |   |--- class: 0\n",
            "|   |   |   |   |   |   |   |   |--- feature_2 >  221.00\n",
            "|   |   |   |   |   |   |   |   |   |--- feature_2 <= 244.00\n",
            "|   |   |   |   |   |   |   |   |   |   |--- class: 1\n",
            "|   |   |   |   |   |   |   |   |   |--- feature_2 >  244.00\n",
            "|   |   |   |   |   |   |   |   |   |   |--- class: 0\n",
            "|   |   |   |   |   |   |--- feature_2 >  348.00\n",
            "|   |   |   |   |   |   |   |--- class: 1\n",
            "|   |   |   |   |   |--- feature_11 >  0.50\n",
            "|   |   |   |   |   |   |--- class: 1\n",
            "|   |   |   |--- feature_1 >  6160.00\n",
            "|   |   |   |   |--- feature_0 <= 3330.50\n",
            "|   |   |   |   |   |--- feature_2 <= 86.50\n",
            "|   |   |   |   |   |   |--- class: 0\n",
            "|   |   |   |   |   |--- feature_2 >  86.50\n",
            "|   |   |   |   |   |   |--- class: 1\n",
            "|   |   |   |   |--- feature_0 >  3330.50\n",
            "|   |   |   |   |   |--- class: 0\n",
            "\n"
          ],
          "name": "stdout"
        }
      ]
    },
    {
      "cell_type": "markdown",
      "metadata": {
        "id": "0E0-NB8ek0ow"
      },
      "source": [
        "***Thank you so much mam and Goeduhub Technologies***"
      ]
    }
  ]
}